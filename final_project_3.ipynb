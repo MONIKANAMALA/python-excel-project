{
  "nbformat": 4,
  "nbformat_minor": 0,
  "metadata": {
    "colab": {
      "provenance": [],
      "authorship_tag": "ABX9TyPeiQgdVk9wruMThyxC8GXr",
      "include_colab_link": true
    },
    "kernelspec": {
      "name": "python3",
      "display_name": "Python 3"
    },
    "language_info": {
      "name": "python"
    }
  },
  "cells": [
    {
      "cell_type": "markdown",
      "metadata": {
        "id": "view-in-github",
        "colab_type": "text"
      },
      "source": [
        "<a href=\"https://colab.research.google.com/github/MONIKANAMALA/python-excel-project/blob/main/final_project_3.ipynb\" target=\"_parent\"><img src=\"https://colab.research.google.com/assets/colab-badge.svg\" alt=\"Open In Colab\"/></a>"
      ]
    },
    {
      "cell_type": "code",
      "source": [
        "pip install openpyxl"
      ],
      "metadata": {
        "colab": {
          "base_uri": "https://localhost:8080/"
        },
        "id": "Wr5HCV4cqLol",
        "outputId": "0f5c51e5-c515-48e3-b6e0-9f1eb178cae8"
      },
      "execution_count": 1,
      "outputs": [
        {
          "output_type": "stream",
          "name": "stdout",
          "text": [
            "Requirement already satisfied: openpyxl in /usr/local/lib/python3.10/dist-packages (3.0.10)\n",
            "Requirement already satisfied: et-xmlfile in /usr/local/lib/python3.10/dist-packages (from openpyxl) (1.1.0)\n"
          ]
        }
      ]
    },
    {
      "cell_type": "code",
      "execution_count": 3,
      "metadata": {
        "colab": {
          "base_uri": "https://localhost:8080/"
        },
        "id": "T55iSXCOqI2M",
        "outputId": "dcdef05b-92b7-43df-b16e-27fc21340d78"
      },
      "outputs": [
        {
          "output_type": "stream",
          "name": "stdout",
          "text": [
            "Enter the number of data entries: 2\n",
            "Enter the name: monika\n",
            "Enter the gender: female\n",
            "Enter profession: ml engineer\n",
            "Enter the name: hemanth\n",
            "Enter the gender: male\n",
            "Enter profession: datascientist\n",
            "Data pushed to Excel successfully!\n"
          ]
        }
      ],
      "source": [
        "import openpyxl\n",
        "\n",
        "def push_data_to_excel(data, column_names):\n",
        "    # Create an Excel workbook\n",
        "    workbook = openpyxl.Workbook()\n",
        "\n",
        "    # Create a sheet in the workbook\n",
        "    sheet = workbook.active\n",
        "\n",
        "    # Add column names\n",
        "    sheet.append(column_names)\n",
        "\n",
        "    # Add the data to the sheet\n",
        "    for row in data:\n",
        "        sheet.append(row)\n",
        "\n",
        "    # Save the workbook\n",
        "    workbook.save(\"/content/data.xlsx\")\n",
        "\n",
        "if __name__ == \"__main__\":\n",
        "    # Get the user input\n",
        "    data = []\n",
        "    n = int(input(\"Enter the number of data entries: \"))\n",
        "\n",
        "    for i in range(n):\n",
        "        name = input(\"Enter the name: \")\n",
        "        gender = input(\"Enter the gender: \")\n",
        "        profession = input(\"Enter profession: \")\n",
        "\n",
        "        data.append([i+1, name, gender, profession])\n",
        "\n",
        "    # Set the column names\n",
        "    column_names = [\"ID\", \"Name\", \"Gender\", \"Profession\"]\n",
        "\n",
        "    # Push the data to Excel\n",
        "    push_data_to_excel(data, column_names)\n",
        "\n",
        "    print(\"Data pushed to Excel successfully!\")\n"
      ]
    },
    {
      "cell_type": "code",
      "source": [],
      "metadata": {
        "id": "lUk9i7pnzWfM"
      },
      "execution_count": null,
      "outputs": []
    }
  ]
}